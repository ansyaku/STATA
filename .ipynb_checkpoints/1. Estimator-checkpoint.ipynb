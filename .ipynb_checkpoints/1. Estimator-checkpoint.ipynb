{
 "cells": [
  {
   "cell_type": "markdown",
   "id": "1b842ed4",
   "metadata": {},
   "source": [
    "# 1. Estimator\n",
    "***"
   ]
  },
  {
   "cell_type": "markdown",
   "id": "f6718cd8",
   "metadata": {},
   "source": [
    "Misalkan kita ingin mengetahui rata-rata penghasilan dari sekelompok petani di provinsi Sumatera Utara $(\\mu_Y)$. <br>\n",
    "Cara yang masuk akal adalah dengan menghitung rata-rata sampel $(\\bar Y)$ dari $n$ buah sampling yang terdistribusi secara independen dan identik _(independently and identically distributed)_. -> Disimbolkan dengan $Y_1, Y_2, Y_3, Y_n$.\n",
    "<br><br>\n",
    "Bagaimana teknik mendapatkan suatu estimator yang baik?\n",
    "* Bisa saja dengan menggunakan rata-rata dari setiap sampling $(\\bar Y)$\n",
    "* Mungkin juga dengan mengambil nilai pertama dari setiap sampling $(Y_1)$\n",
    "\n",
    "Baik apabila kita menggunakan $\\bar Y$ ataupun $Y_1$ sebagai estimator, kita akan mendapatkan nilai yang berbeda setiap kali kita melakukan sampling. Apabila kita  kumpulkan seluruh data (outcome) hasil sampling maka akan didapati suatu distribusi.\n",
    "\n",
    "### Estimator mana yang terbaik?\n",
    "Estimator yang memberikan nilai sedekat mungkin dengan $(\\mu_Y)$.<br>\n",
    "Secara formal, kita mendefinisikan estimator terbaik adalah estimator yang memiliki tiga kriteria berikut:"
   ]
  },
  {
   "cell_type": "markdown",
   "id": "e16cbbdf",
   "metadata": {},
   "source": [
    "### Tidak Bias\n",
    "***\n",
    "Misalkan $\\hat \\mu_Y$ adalah estimator untuk $\\mu_Y$, maka estimator $\\hat \\mu_Y$ dikatakan tidak bias apabila :<br>\n",
    "$E(\\hat \\mu_Y)= \\mu_Y$\n",
    "\n",
    "Dimana, \n",
    "$E(\\hat \\mu_Y)$ adalah rata-rata dari distribusi sampel.\n",
    "Bila syarat ini tidak dipenuhi maka estimator dikatakan __bias__.\n",
    "\n",
    "### Konsisten\n",
    "***\n",
    "Bila ukuran sampelnya besar, maka ketidakpastian dari nilai $\\mu_Y$ yang timbul dari variasi acak di dalam sampel __sangat kecil__.\n",
    "\n",
    "### Efisien\n",
    "***\n",
    "Andaikan terdapat estimator lain, sebut saja $(\\tilde \\mu_Y)$. Maka estimator $\\hat \\mu_Y$ dikatakan lebih efisien daripada estimator $(\\tilde \\mu_Y)$ apabila:<br>\n",
    "$var(\\hat \\mu_Y)<var(\\tilde \\mu_Y)$"
   ]
  }
 ],
 "metadata": {
  "kernelspec": {
   "display_name": "R",
   "language": "R",
   "name": "ir"
  },
  "language_info": {
   "codemirror_mode": "r",
   "file_extension": ".r",
   "mimetype": "text/x-r-source",
   "name": "R",
   "pygments_lexer": "r",
   "version": "4.1.0"
  }
 },
 "nbformat": 4,
 "nbformat_minor": 5
}
