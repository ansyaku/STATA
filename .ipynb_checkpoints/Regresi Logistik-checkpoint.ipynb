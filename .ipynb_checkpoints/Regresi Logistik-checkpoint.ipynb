{
 "cells": [
  {
   "cell_type": "markdown",
   "id": "b6cd58b2",
   "metadata": {},
   "source": [
    "# Regresi Logistik\n",
    "***\n",
    "\n",
    "Regresi logistik merupakan regresi yang menghubungkan antara satu atau beberapa variabel independen (variabel bebas) dengan **variabel dependen yang berupa kategori biner (dichotomous)**, biasanya 0 dan 1. <br>\n",
    "\n",
    "Regresi logistik berusaha untuk membedakan :\n",
    "1. Apakah suatu email spam atau bukan spam?\n",
    "2. Apakah hari ini hujan atau tidak hujan?\n",
    "3. Apakah nilai UN, keikusertaan bimbel berpengaruh dalam menentukan mahasiswa lulus SNMPTN atau tidak?\n",
    "\n",
    "Asumsi Dalam Regresi Logistik:\n",
    "1. Variabel dependen harus bersifat biner.\n",
    "2. Tidak boleh ada outliers di dalam data\n",
    "3. Tidak boleh ada korelasi tinggi antar variabel prediktor (multicollinearity). Bisa dinilai menggunakan  correlation matrix antar prediktor. Tabachnick and Fidell (2013) menyarankan bahwa selama koefisien korelasi antar variabel independen kurang dari 0.90, asumsi terpenuhi."
   ]
  },
  {
   "cell_type": "code",
   "execution_count": 2,
   "id": "7b93247c",
   "metadata": {},
   "outputs": [],
   "source": [
    "# . margin rank, atmeans\n",
    "\n",
    "# Adjusted predictions                            Number of obs     =        400\n",
    "# Model VCE    : OIM\n",
    "\n",
    "# Expression   : Pr(admit), predict()\n",
    "# at           : gre             =       587.7 (mean)\n",
    "#                gpa             =      3.3899 (mean)\n",
    "#                1.rank          =       .1525 (mean)\n",
    "#                2.rank          =       .3775 (mean)\n",
    "#                3.rank          =       .3025 (mean)\n",
    "#                4.rank          =       .1675 (mean)\n",
    "\n",
    "# ------------------------------------------------------------------------------\n",
    "#              |            Delta-method\n",
    "#              |     Margin   Std. Err.      z    P>|z|     [95% Conf. Interval]\n",
    "# -------------+----------------------------------------------------------------\n",
    "#         rank |\n",
    "#           1  |   .5166016   .0663153     7.79   0.000     .3866261    .6465771\n",
    "#           2  |   .3522846   .0397848     8.85   0.000     .2743078    .4302614\n",
    "#           3  |    .218612   .0382506     5.72   0.000     .1436422    .2935819\n",
    "#           4  |   .1846684   .0486362     3.80   0.000     .0893432    .2799937\n"
   ]
  },
  {
   "cell_type": "markdown",
   "id": "1c6de932",
   "metadata": {},
   "source": [
    "Formula regresi logistik:<br>"
   ]
  },
  {
   "cell_type": "code",
   "execution_count": null,
   "id": "fbb53b4f",
   "metadata": {},
   "outputs": [],
   "source": [
    "# . logit, or\n",
    "\n",
    "# Logistic regression                             Number of obs     =        400\n",
    "#                                                 LR chi2(5)        =      41.46\n",
    "#                                                 Prob > chi2       =     0.0000\n",
    "# Log likelihood = -229.25875                     Pseudo R2         =     0.0829\n",
    "\n",
    "# ------------------------------------------------------------------------------\n",
    "#        admit | Odds Ratio   Std. Err.      z    P>|z|     [95% Conf. Interval]\n",
    "# -------------+----------------------------------------------------------------\n",
    "#          gre |   1.002267   .0010965     2.07   0.038      1.00012    1.004418\n",
    "#          gpa |   2.234545   .7414652     2.42   0.015     1.166122    4.281877\n",
    "#              |\n",
    "#         rank |\n",
    "#           2  |   .5089309   .1610714    -2.13   0.033     .2736922    .9463578\n",
    "#           3  |   .2617923   .0903986    -3.88   0.000     .1330551    .5150889\n",
    "#           4  |   .2119375   .0885542    -3.71   0.000     .0934435    .4806919\n",
    "#              |\n",
    "#        _cons |   .0185001   .0210892    -3.50   0.000     .0019808    .1727834\n",
    "# ------------------------------------------------------------------------------\n",
    "# Note: _cons estimates baseline odds.\n"
   ]
  },
  {
   "cell_type": "code",
   "execution_count": null,
   "id": "d089fdc4",
   "metadata": {},
   "outputs": [],
   "source": []
  },
  {
   "cell_type": "code",
   "execution_count": null,
   "id": "81e7032f",
   "metadata": {},
   "outputs": [],
   "source": [
    "# . logit admit gre gpa i.rank\n",
    "\n",
    "# Iteration 0:   log likelihood = -249.98826  \n",
    "# Iteration 1:   log likelihood = -229.66446  \n",
    "# Iteration 2:   log likelihood = -229.25955  \n",
    "# Iteration 3:   log likelihood = -229.25875  \n",
    "# Iteration 4:   log likelihood = -229.25875  \n",
    "\n",
    "# Logistic regression                             Number of obs     =        400\n",
    "#                                                 LR chi2(5)        =      41.46\n",
    "#                                                 Prob > chi2       =     0.0000\n",
    "# Log likelihood = -229.25875                     Pseudo R2         =     0.0829\n",
    "\n",
    "# ------------------------------------------------------------------------------\n",
    "#        admit |      Coef.   Std. Err.      z    P>|z|     [95% Conf. Interval]\n",
    "# -------------+----------------------------------------------------------------\n",
    "#          gre |   .0022644    .001094     2.07   0.038     .0001202    .0044086\n",
    "#          gpa |   .8040377   .3318193     2.42   0.015     .1536838    1.454392\n",
    "#              |\n",
    "#         rank |\n",
    "#           2  |  -.6754429   .3164897    -2.13   0.033    -1.295751   -.0551346\n",
    "#           3  |  -1.340204   .3453064    -3.88   0.000    -2.016992   -.6634158\n",
    "#           4  |  -1.551464   .4178316    -3.71   0.000    -2.370399   -.7325287\n",
    "#              |\n",
    "#        _cons |  -3.989979   1.139951    -3.50   0.000    -6.224242   -1.755717\n",
    "# ------------------------------------------------------------------------------\n"
   ]
  },
  {
   "cell_type": "markdown",
   "id": "cc1304e8",
   "metadata": {},
   "source": [
    "## Tipe-tipe regresi logistik\n",
    "***\n",
    "Tipe tipe regresi logistik antara lain:\n",
    "1. Binary Logistic Regression\n",
    "2. Multinomial Logistic Regression\n",
    "3. Ordinal Logistic Regression\n",
    "\n",
    "\n",
    "## Loss Function\n",
    "***\n",
    "A loss function is a measure of fit between a mathematical model of data and the actual data. We choose the parameters of our model to minimize the badness-of-fit or to maximize the goodness-of-fit of the model to the data. <br>\n"
   ]
  },
  {
   "cell_type": "code",
   "execution_count": null,
   "id": "6881860c",
   "metadata": {},
   "outputs": [],
   "source": []
  },
  {
   "cell_type": "code",
   "execution_count": null,
   "id": "37db1aba",
   "metadata": {},
   "outputs": [],
   "source": []
  }
 ],
 "metadata": {
  "kernelspec": {
   "display_name": "R",
   "language": "R",
   "name": "ir"
  },
  "language_info": {
   "codemirror_mode": "r",
   "file_extension": ".r",
   "mimetype": "text/x-r-source",
   "name": "R",
   "pygments_lexer": "r",
   "version": "4.1.0"
  }
 },
 "nbformat": 4,
 "nbformat_minor": 5
}
