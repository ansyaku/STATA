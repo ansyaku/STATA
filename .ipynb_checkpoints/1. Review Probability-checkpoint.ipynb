{
 "cells": [
  {
   "cell_type": "markdown",
   "id": "72ca4e63",
   "metadata": {},
   "source": [
    "## Peubah Acak\n",
    "***\n",
    "\n",
    "The number of times your computer crashes while you are writing\n",
    "a term paper is random and takes on a numerical value, so it is a random\n",
    "variable."
   ]
  }
 ],
 "metadata": {
  "kernelspec": {
   "display_name": "Python 3",
   "language": "python",
   "name": "python3"
  },
  "language_info": {
   "codemirror_mode": {
    "name": "ipython",
    "version": 3
   },
   "file_extension": ".py",
   "mimetype": "text/x-python",
   "name": "python",
   "nbconvert_exporter": "python",
   "pygments_lexer": "ipython3",
   "version": "3.8.5"
  }
 },
 "nbformat": 4,
 "nbformat_minor": 5
}
