{
 "cells": [
  {
   "cell_type": "code",
   "execution_count": null,
   "id": "a3e888e2",
   "metadata": {},
   "outputs": [],
   "source": [
    "# Regresi Data Panel\n",
    "***\n",
    "\n",
    "Data panel adalah"
   ]
  },
  {
   "cell_type": "code",
   "execution_count": null,
   "id": "08477c84",
   "metadata": {},
   "outputs": [],
   "source": [
    "# . regress y x1 i.country\n",
    "\n",
    "#       Source |       SS           df       MS      Number of obs   =        70\n",
    "# -------------+----------------------------------   F(7, 62)        =      2.61\n",
    "#        Model |  1.4276e+20         7  2.0394e+19   Prob > F        =    0.0199\n",
    "#     Residual |  4.8454e+20        62  7.8151e+18   R-squared       =    0.2276\n",
    "# -------------+----------------------------------   Adj R-squared   =    0.1404\n",
    "#        Total |  6.2729e+20        69  9.0912e+18   Root MSE        =    2.8e+09\n",
    "\n",
    "# ------------------------------------------------------------------------------\n",
    "#            y |      Coef.   Std. Err.      t    P>|t|     [95% Conf. Interval]\n",
    "# -------------+----------------------------------------------------------------\n",
    "#           x1 |   2.48e+09   1.11e+09     2.24   0.029     2.63e+08    4.69e+09\n",
    "#              |\n",
    "#      country |\n",
    "#           B  |  -1.94e+09   1.26e+09    -1.53   0.130    -4.47e+09    5.89e+08\n",
    "#           C  |  -2.60e+09   1.60e+09    -1.63   0.108    -5.79e+09    5.87e+08\n",
    "#           D  |   2.28e+09   1.26e+09     1.81   0.075    -2.39e+08    4.80e+09\n",
    "#           E  |  -1.48e+09   1.27e+09    -1.17   0.247    -4.02e+09    1.05e+09\n",
    "#           F  |   1.13e+09   1.29e+09     0.88   0.384    -1.45e+09    3.71e+09\n",
    "#           G  |  -1.87e+09   1.50e+09    -1.25   0.218    -4.86e+09    1.13e+09\n",
    "#              |\n",
    "#        _cons |   8.81e+08   9.62e+08     0.92   0.363    -1.04e+09    2.80e+09\n",
    "# ------------------------------------------------------------------------------"
   ]
  },
  {
   "cell_type": "code",
   "execution_count": null,
   "id": "a45d0b3a",
   "metadata": {},
   "outputs": [],
   "source": []
  },
  {
   "cell_type": "code",
   "execution_count": null,
   "id": "4cca632b",
   "metadata": {},
   "outputs": [],
   "source": []
  },
  {
   "cell_type": "code",
   "execution_count": null,
   "id": "1bb5102d",
   "metadata": {},
   "outputs": [],
   "source": [
    "# . xtreg y x1, re\n",
    "\n",
    "# Random-effects GLS regression                   Number of obs     =         70\n",
    "# Group variable: country                         Number of groups  =          7\n",
    "\n",
    "# R-sq:                                           Obs per group:\n",
    "#      within  = 0.0747                                         min =         10\n",
    "#      between = 0.0763                                         avg =       10.0\n",
    "#      overall = 0.0059                                         max =         10\n",
    "\n",
    "#                                                 Wald chi2(1)      =       1.91\n",
    "# corr(u_i, X)   = 0 (assumed)                    Prob > chi2       =     0.1669\n",
    "\n",
    "# ------------------------------------------------------------------------------\n",
    "#            y |      Coef.   Std. Err.      z    P>|z|     [95% Conf. Interval]\n",
    "# -------------+----------------------------------------------------------------\n",
    "#           x1 |   1.25e+09   9.02e+08     1.38   0.167    -5.21e+08    3.02e+09\n",
    "#        _cons |   1.04e+09   7.91e+08     1.31   0.190    -5.13e+08    2.59e+09\n",
    "# -------------+----------------------------------------------------------------\n",
    "#      sigma_u |  1.065e+09\n",
    "#      sigma_e |  2.796e+09\n",
    "#          rho |  .12664193   (fraction of variance due to u_i)\n",
    "# ------------------------------------------------------------------------------"
   ]
  },
  {
   "cell_type": "code",
   "execution_count": null,
   "id": "e8c96c99",
   "metadata": {},
   "outputs": [],
   "source": []
  },
  {
   "cell_type": "code",
   "execution_count": null,
   "id": "800189a7",
   "metadata": {},
   "outputs": [],
   "source": []
  },
  {
   "cell_type": "code",
   "execution_count": null,
   "id": "3018e203",
   "metadata": {},
   "outputs": [],
   "source": []
  },
  {
   "cell_type": "code",
   "execution_count": null,
   "id": "785a5e00",
   "metadata": {},
   "outputs": [],
   "source": []
  }
 ],
 "metadata": {
  "kernelspec": {
   "display_name": "R",
   "language": "R",
   "name": "ir"
  },
  "language_info": {
   "codemirror_mode": "r",
   "file_extension": ".r",
   "mimetype": "text/x-r-source",
   "name": "R",
   "pygments_lexer": "r",
   "version": "4.1.0"
  }
 },
 "nbformat": 4,
 "nbformat_minor": 5
}
