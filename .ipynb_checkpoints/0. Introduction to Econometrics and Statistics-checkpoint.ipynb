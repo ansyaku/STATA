{
 "cells": [
  {
   "cell_type": "markdown",
   "id": "historical-georgia",
   "metadata": {},
   "source": [
    "# Statistika dan Ekonometrika"
   ]
  },
  {
   "cell_type": "code",
   "execution_count": null,
   "id": "6b606739",
   "metadata": {},
   "outputs": [],
   "source": []
  },
  {
   "cell_type": "markdown",
   "id": "considered-above",
   "metadata": {},
   "source": [
    "## Topik-Topik Statistika Dasar\n",
    "\n",
    "Untuk sementara topik-topik ini diasumsikan telah dimengerti dengan baik.\n",
    "### 01. Pengantar dan Statistika Deskriptif\n",
    "### 02. Peluang dan Aturan Bayes\n",
    "### 03. Peubah Acak dan Distribusi Peluang\n",
    "### 04. Fungsi Peluang Gabungan\n",
    "### 05. Ekspektasi\n",
    "***\n",
    "$$\\mu = \\mu_X = \\text{E}[X] = \\int\\limits^{\\infty}_{-\\infty}\\! x\\cdot f(x)\\, dx.\\notag$$\n",
    "## Distribusi\n",
    "Suatu fungsi yang menunjukan semua nilai dari sebuah data dan seberapa sering nilai tersebut terjadi.\n",
    "\n",
    "### 06. Distribusi Diskrit\n",
    "***\n",
    "* [61. Distribusi Uniform](./Distribusi_Seragam.ipynb)\n",
    "* [62. Distribusi Binomial](./Distribusi_Binomial.ipynb)\n",
    "* [63. Distribusi Binomial Negatif](./Distribusi_Binomial_Negatif.ipynb)\n",
    "* [64. Distribusi Hipergeometrik](./Distribusi_Hipergeometrik.ipynb)\n",
    "* [65. Distribusi Geometrik](./Distribusi_Geometrik.ipynb)\n",
    "* [66. Distribusi Poisson](./Distribusi_Poisson.ipynb)\n",
    "\n",
    "### 07. Distribusi Kontinu\n",
    "***\n",
    "* Distribui Normal\n",
    "* Distribusi Gamma\n",
    "* Distribusi Eksponensial\n",
    "* Distribusi Chi-sq. \n",
    "\n",
    "### 08. Penaksiran\n",
    "***\n",
    "* Penaksiran Titik\n",
    "* Penaksiran Selang\n",
    "* Selang Kepervayaan untuk RATAAN\n",
    "* Selang Kepercayaan untuk VARIANSI\n",
    "\n",
    "### 09. Uji Hipotesis\n",
    "***\n",
    "\n",
    "### 10. Analisis Variansi\n",
    "***\n",
    "\n",
    "### 11. Uji Lainnya\n",
    "***\n",
    "* Uji Tanda\n",
    "* Uji Mc Nemar\n",
    "* Uji Wilcoxon dan Uji Walsj\n",
    "* Uji Eksak Fisher\n",
    "* Uji Mann Whitney\n",
    "* Uji Kilat TUkey\n",
    "* Uji Q-Cochran\n",
    "* Uji Friedman\n",
    "* Uji Durbi dan Bell Doksum\n",
    "* Uji Chi Kuadrat Uji Median\n",
    "* Uji Kruskal Walis\n",
    "* Uji Kolmogorov\n",
    "* Uji Lilliefors\n",
    "* Uji Cramer-von Misses"
   ]
  },
  {
   "cell_type": "code",
   "execution_count": null,
   "id": "89bcbd60",
   "metadata": {},
   "outputs": [],
   "source": []
  }
 ],
 "metadata": {
  "kernelspec": {
   "display_name": "Python 3",
   "language": "python",
   "name": "python3"
  },
  "language_info": {
   "codemirror_mode": {
    "name": "ipython",
    "version": 3
   },
   "file_extension": ".py",
   "mimetype": "text/x-python",
   "name": "python",
   "nbconvert_exporter": "python",
   "pygments_lexer": "ipython3",
   "version": "3.8.5"
  }
 },
 "nbformat": 4,
 "nbformat_minor": 5
}
