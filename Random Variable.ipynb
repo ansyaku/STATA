{
 "cells": [
  {
   "cell_type": "markdown",
   "id": "66f14bd1",
   "metadata": {},
   "source": [
    "$f(a,b) = \n",
    "     \\begin{cases}\n",
    "       \\text{open,} &\\quad\\text{if RMSD}_\\text{s-open}\\ge6, \\text{RMSD}_\\text{closed}\\ge6\\\\\n",
    "       \\text{closed,} &\\quad\\text{if RMSD}_\\text{closed}\\le2 \\\\\n",
    "       \\text{semiopen,} &\\quad\\text{if RMSD}_\\text{s-open}\\le2\\\\\n",
    "       \\text{transition,} &\\quad\\text{otherwise.} \\\\ \n",
    "     \\end{cases}$"
   ]
  }
 ],
 "metadata": {
  "kernelspec": {
   "display_name": "R",
   "language": "R",
   "name": "ir"
  },
  "language_info": {
   "codemirror_mode": "r",
   "file_extension": ".r",
   "mimetype": "text/x-r-source",
   "name": "R",
   "pygments_lexer": "r",
   "version": "4.1.0"
  }
 },
 "nbformat": 4,
 "nbformat_minor": 5
}
