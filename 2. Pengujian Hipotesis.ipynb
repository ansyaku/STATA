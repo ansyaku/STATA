{
 "cells": [
  {
   "cell_type": "markdown",
   "id": "0c8559f0",
   "metadata": {},
   "source": [
    "# 2. Pengujian Hipotesis\n",
    "***\n",
    "\n",
    "__Pertanyaan:__\n",
    "\n",
    "1. __Apakah upah buruh per bulan di Sumatera Utara Rp 2.000.000?__\n",
    "2. __Apakah upah per bulan buruh di Sumatera Utara lebih besar dari upah buruh di Jawa Barat?__\n",
    "<br>\n",
    "<br>\n",
    "Untuk menjawab pertanyaan itu, kita perlu menggunakan statistik terutama melalui pengujian hipotesis.<br>\n",
    "Kita menggunakan informasi rata-rata dari sampel yang kita ambil dari buruh di Sumatera Utara dan buruh di Jawa Barat.<br>\n",
    "Karena tidak mungkin (sulit) untuk mendapatkan data gaji seluruh buruh di Sumatera Utara/Jawa barat tanpa ada yang ketinggalan satupun."
   ]
  },
  {
   "cell_type": "markdown",
   "id": "950ebc53",
   "metadata": {},
   "source": [
    "## Hipotesis Null dan Hipotesis Alternative\n",
    "***\n",
    "\n",
    "* __Null hypothesis $(H_0)$__<br>\n",
    "Hipotesis null adalah pernyataan bahwa __tidak ada perbedaan__ antara parameter sampel (rata-rata, standar deviasi, dll) dan parameter populasi (hypothesized value). <br>\n",
    "Dinotasikan dengan $E(Y)=\\mu_y$\n",
    "<br>\n",
    "* __Alternative Hypothesis $(H_1)$__<br>\n",
    "Hipotesis alternaatif adalah pernyataan bahwa  bahwa __ada perbedaan (lebih besar atau lebih kecil)__  antara parameter sampel (rata-rata, standar deviasi, dll) dan parameter populasi (hypothesized value). <br>\n",
    "Dinotasikan dengan $E(Y)\\neq\\mu_y$\n",
    "\n",
    "\n",
    "<br><br>\n",
    "\n",
    "__NOTES: (PENTING)!!!__<br>\n",
    "Peran researcher adalah untuk memutuskan berdasarkan data sampel apakah:\n",
    "* menerima hipotesis nol <br>(tidak berarti benar), menerima secara tentatif dengan penuh kesadaran bahwa bisa saja di waktu lain akan ditolak berdasarkan bukti tambahan yang ada\n",
    "* gagal menerima hipotesis nol (__failed to accept__)"
   ]
  },
  {
   "cell_type": "markdown",
   "id": "6a10a2f6",
   "metadata": {},
   "source": [
    "## Menghitung Nilai p-Value\n",
    "***\n",
    "Rata0rata dari setiap sampel akan jarang sama persis dari nilai rata-rata yang dihipotesisikan. Hal ini terjadi karena:\n",
    "1. rata-rata populasi sebenarnya tidak sama dengan rata-rata populasi yang dihipotesiskan\n",
    "2. random sampling\n",
    "\n",
    "Namun dmeikian, kita tetap bisa mencari  nilai rata-rata dengan menggunakan pendekatan probabilistik yang bisa diperbandingkan dengan nilai null hipotesis namun tetap memperhitungkan ketidakpastian sampling.\n",
    "\n",
    "### p-Value\n",
    "__p-Value__ (_significance probability_) adalah <br>\n",
    "probabilitas untuk mendapatkan sebuah statistik (estimator) paling tidak sama adversenya dengan nilai statistik (estimator) yang dihitung, dengan mengasumsukan hipotesis nol benar.\n",
    "\n",
    "\n",
    "$ p-value=Pr_{H_0}\\left(|\\bar Y-\\mu_{Y,0}|>| \\bar{Y^{act}}-\\mu_{Y,0}|\\right)$<br>\n",
    "<br>\n",
    "Nilai $p-value$ adalah area di ujung-ujung distribusi. Secara matematis dapat dituliskan area diluar:<br>\n",
    "$\\mu_{Y,0} \\pm |\\bar{Y^{act}}-\\mu_{Y,0}|$\n",
    "<br>\n",
    "Bila\n",
    "* $p-value$ cukup besat maka konsisten dengan hipotesis nol\n",
    "* $p-value$ kecil, maka tidak konsisten dengan hipotesis nol\n",
    "\n",
    "Keterkaitan dengan ukuran sampel :\n",
    "* Bila ukuran sampel besar, maka sesuai dengan teorema limit sentral, distribusi dari sampling $(\\bar Y)$ adalah distribusi normal\n",
    "* Bila ukuran sampel kecil, maka distribusi menjadi rumit"
   ]
  },
  {
   "cell_type": "code",
   "execution_count": null,
   "id": "12fdb8e4",
   "metadata": {},
   "outputs": [],
   "source": []
  },
  {
   "cell_type": "markdown",
   "id": "cee743b7",
   "metadata": {},
   "source": [
    "## Menhitung Interval Keyakunan dari Rata-Rata Populasi\n",
    "***"
   ]
  },
  {
   "cell_type": "markdown",
   "id": "fda945ab",
   "metadata": {},
   "source": [
    "## Membandingkan Rata-Rata dari Dua Populasi Berbeda\n",
    "***"
   ]
  },
  {
   "cell_type": "markdown",
   "id": "614c23a4",
   "metadata": {},
   "source": [
    "## Menggunakan Nilai t\n",
    "***"
   ]
  }
 ],
 "metadata": {
  "kernelspec": {
   "display_name": "R",
   "language": "R",
   "name": "ir"
  },
  "language_info": {
   "codemirror_mode": "r",
   "file_extension": ".r",
   "mimetype": "text/x-r-source",
   "name": "R",
   "pygments_lexer": "r",
   "version": "4.1.0"
  }
 },
 "nbformat": 4,
 "nbformat_minor": 5
}
