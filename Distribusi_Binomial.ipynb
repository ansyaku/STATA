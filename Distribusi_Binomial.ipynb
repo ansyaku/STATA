{
 "cells": [
  {
   "cell_type": "markdown",
   "id": "frank-return",
   "metadata": {},
   "source": [
    " # Distribusi Binomial\n",
    " ***\n",
    "Distribusi Bernoulli adalah distribusi atas proses Bernoulli (eksperimen sering terdiri dari beberapa usaha yang berulang-ulang, di mana tiap usaha mempunyai dua kemungkinan: sukses atau gagal. <br>\n",
    "Contoh:<br>\n",
    "Pada pengujian suatu produk untuk menentukan berapa jumlah produk yang cacat dari $n$ pengujian atau usaha.<br>\n",
    "Pada tiap pengujian ditentukan bahwa suatu produk cacat atau tidak cacat. \n",
    "<ol>\n",
    "<li> Peluang produk cacat misalkan $p$</li> \n",
    "<li> Peluang produk tidak cacat $1-p$</li> \n",
    "</ol>"
   ]
  }
 ],
 "metadata": {
  "kernelspec": {
   "display_name": "Python 3",
   "language": "python",
   "name": "python3"
  },
  "language_info": {
   "codemirror_mode": {
    "name": "ipython",
    "version": 3
   },
   "file_extension": ".py",
   "mimetype": "text/x-python",
   "name": "python",
   "nbconvert_exporter": "python",
   "pygments_lexer": "ipython3",
   "version": "3.8.5"
  }
 },
 "nbformat": 4,
 "nbformat_minor": 5
}
