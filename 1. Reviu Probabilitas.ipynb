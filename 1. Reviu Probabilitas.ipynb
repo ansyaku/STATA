{
 "cells": [
  {
   "cell_type": "markdown",
   "id": "2ef78cad",
   "metadata": {},
   "source": [
    "# Random Variable (Peubah Acak)\n",
    "***\n",
    "*A function defined on sample space is called __random variable__.* (Feller)<br>\n",
    "Peubah acak $X$ adalah sebuah fungsi yang terdefinisi dalam ruang sampel (S), yang menghubungkan antara  bilangan riil $X(\\omega)=x$, dengan outcome $\\omega$ ada pada $S$.\n",
    "<br>\n",
    "Contoh peubah acak:\n",
    "* Jumlah kartu as yang dipegang saat main bridge\n",
    "* Pegawai dengan tanggal lahir sama di dalam satu departemen yang berjumlah n pegawai\n",
    "* etc\n",
    "\n",
    "__Contoh:__ <br>\n",
    "Dua koin dilempar dan hasilnya dicatat. Ruang sample $S = \\{HH, HT, TH, TT\\}$.<br>\n",
    "Didefinisikan peubah acak $X(\\omega) = n$, dimana $n$ adalah kemunculan gambar dan $\\omega$ mewakili suatu even misalnya $HH$. <br>\n",
    "$X(\\omega) = \n",
    "     \\begin{cases}\n",
    "       \\text{0,} &\\quad\\text{jika } \\omega =(TT) \\\\ \n",
    "       \\text{1,} &\\quad\\text{jika } \\omega \\in \\{TH, HT\\} \\\\ \n",
    "       \\text{2,} &\\quad\\text{jika } \\omega =(HH) \\\\ \n",
    "     \\end{cases}$\n",
    "<br>\n",
    "Dari sini dapat diketahui bahwa  $X(\\omega)=0$ dengan probabilitas $\\frac{1}{4}$ atau $X(\\omega)=2$ dengan probabilitas $\\frac{1}{2}$.     <br>\n",
    "\n",
    "Jadi, intinya untuk setiap nilai peubah acak terdapat event, dan melalui even ini kita menghubungkan antara peubah dengan ukuran probabilitas\n",
    "\n",
    "\n",
    "## Definisi-Definisi\n",
    "\n",
    "### Peubah Acak Diskrit\n",
    "\n",
    "* __Distribusi Probabiilitas__ <br>\n",
    "list dari semua kemungkinan outcome dari peubah acak dan kemungkinan nilai tersebut akan muncul\n",
    "* __Distribusi Kumulatif Probabilitas (Cumulative Probability Distributions - CDF)__ <br>\n",
    " adalah peluang peubah acak adalah sama dengan atau kurang dari suatu nilai tertentu.\n",
    "\n",
    "### Peubah Acak Kontinu\n",
    "* __Fungsi Kepadatan Probabilitas (Probability Density Function - PDF)__ <br>\n",
    "luas area diantara dua buah titik pada distribusi probabilitas, yang merupakan peluang peubah acak ada diantara dua titik tersebut\n",
    "* __Distribusi Kumulatif Probabilitas__ <br>\n",
    "definisi yang sama dengan distribusi kumulatif probabilitas pada peubah acak diskrit\n",
    "\n",
    "#### Peubah Acak\n",
    "\n",
    "![peubahacak](https://raw.githubusercontent.com/ansyaku/STATA/main/img/Peubahacak.PNG)\n",
    "\n",
    "\n",
    "#### Fungsi Distribusi Kumulatif\n",
    "\n",
    "![fdk](https://raw.githubusercontent.com/ansyaku/STATA/main/img/CDF.PNG)\n",
    "\n"
   ]
  },
  {
   "cell_type": "markdown",
   "id": "973d2ad6",
   "metadata": {},
   "source": [
    "## Skewness, Kurtosis, dan Momen\n",
    "***\n",
    "Rata-rata, varians, keruncingan, dan kemencengan dinamakan sebagai momen distribusi __(moments of distributions)__.\n",
    "\n",
    "### Keruncingan\n",
    "$Skewness= \\frac{E[(Y-\\mu_Y)^3]}{\\sigma^3_Y} $\n",
    "\n",
    "### Kemerengan\n",
    "$Kurtosis = \\frac{E[(Y-\\mu_Y)^4]}{\\sigma^4_Y} $\n",
    "\n",
    "### Momen\n",
    "$Momen = \\frac{E[(Y-\\mu_Y)^n]}{\\sigma^n_Y} $"
   ]
  },
  {
   "cell_type": "markdown",
   "id": "1fc6c0b6",
   "metadata": {},
   "source": [
    "## Kombinasi dua peubah acak\n",
    "\n",
    "### Join Distribution\n",
    "\n",
    "Distribusi bersama dari dua peubah acak adalah kombinsi kemungkinan keterjadian. Misalkan: kondisi cuaca - hujan atau tidak hujan - mempengaruhi waktu mencapai sekolah. Maka bila didefinisikan waktu mencapai sekolah <=20 menit singkat, apabila >20 menit lama, maka akan ada 4 kemungkinan:\n",
    "* kondisi cuaca hujan - waktu mencapai sekolah singkat\n",
    "* kondisi cuaca hujan - waktu mencapai sekolah lama\n",
    "* kondisi cuaca tidak hujan - waktu mencapai sekolah singkat\n",
    "* kondisi cuaca tidak hujan - waktu mencapai sekolah lama\n",
    "\n",
    "Joint probability distributions adalah frekuensi dimana setiap outcomes terjadi dalam banyak perulangan percobaan pergi ke sekolah dengan berbagai kondisi cuaca (hujan/tidak hujan).\n",
    "\n",
    "### Marginal Probability Distribution\n",
    "nama lain dari probability distributions untuk membedakannya dengan prob dist dengan peubah acak lain ($Y$ dan $X$) dari masing-masing prob dist peubah acak (mis: $Y$ saja)."
   ]
  },
  {
   "cell_type": "markdown",
   "id": "007b4b82",
   "metadata": {},
   "source": [
    "## Independensi\n",
    "***\n",
    "\n",
    "Dua buah peubah acak $X$ dan $Y$ disebut **independen**, jika mengetahui nilai salah satu peubah acak memberikan i\n",
    "\n",
    "### Kovarians\n",
    "Salah satu ukuran untuk menentukan apakah dua variabel bergerak bersama adalah kovarians.\n",
    "\n",
    "\n",
    "### Korelasi\n",
    "Korelasi adalah pengukuran ketergantungan antara $X$ dan $Y$.<br>\n",
    "$corr(X,Y)=\\frac{cov(X,Y}{\\sqrt{var(X)var(Y}}$<br>\n",
    "$corr(X,Y)=\\frac{\\sigma_{XY}}{\\sigma_{X}\\sigma_{Y}}$<br>\n",
    "\n",
    "### Korelasi dan Independensi\n",
    "Jika $X$ dan $Y$ independen, maka kovarians = 0, dan jumlah dari varians dari penjumlahan keduanya:<br>\n",
    "$var(X+Y)=var(X)+var(Y)$<br>\n",
    "$=\\sigma^2_X+\\sigma^2_Y$"
   ]
  },
  {
   "cell_type": "markdown",
   "id": "b832cddd",
   "metadata": {},
   "source": [
    "# Expected Value, Mean, Variance\n",
    "***\n",
    "\n",
    "* **Expected value dari suatu peubah acak $Y$** (dinotasikan dengan $E(Y)$) adalah nilai rata-rata dari peubah acak yang berasal dari banyak percobaan.\n",
    "atau dapat juga ditulis:<br>\n",
    "$E(Y)=y_1p_1+y_2p_2+...+y_kp_k \\\\= \\sum_{i=1}^k y_ip_i$\n",
    "<br>\n",
    "* **Varians dari peubah acak** adalah nilai harapan dari __kuadrat__ selisih deviasi dari Y terhadap nilai rata-rata peubah acak. <br>\n",
    "$var(Y)=E[(Y-\\mu_Y)^2$]\n",
    "<br>\n",
    "\n",
    "* **Standar Deviasi dari peubah acak** adalah __akar kuadrat__ dari varians peubah acak disimbolkan dengan $\\sigma_Y$.<br>\n",
    "atau dapat juga ditulis:<br>\n",
    "$\\sigma^2_Y=var(Y) = E[(Y-\\mu_Y)^2] = \\sum_{i=1}^k (y_i-\\mu_Y)^2 p_i$"
   ]
  },
  {
   "cell_type": "markdown",
   "id": "f15226b2",
   "metadata": {},
   "source": [
    "## Distribusi Normal\n",
    "***\n",
    "Standar normal distribution $(Z)$ adalah distribusi normal dengan rata-rata nol dan varians 2, disimbolkan $N(0,1)$.\n",
    "\n",
    "## Distribusi Chi-Square\n",
    "***\n",
    "Merupakan jumlah dari $m$ kuadrat standar normal random variabel.\n",
    "\n",
    "## Distribusi Student (t)\n",
    "***\n",
    "Merupakan distribusi dari standar normal random variabel dengan derajat kebebasan $m$ dibagi $m$.\n",
    "\n",
    "## Distribusi F\n",
    "***\n",
    "Distribusi dari rasio distribusi khi kuadrat dengan derajat kebebasan $m$ dibagi $m$ terhadap distribusi khi kuadrat independen dengan derajat kebebasan $n$ dinagi $n$.\n",
    "\n",
    "## Distribusi Bernoulli (Binomial)\n",
    " ***\n",
    "Suatu percobaan independen yang berulang disebut __Percobaan Bernoulli (*Bernoulli Trials*)__ apabila hanya ada dua kemungkinan outcomes dari setiap percobaan dan peluang dari setiap hasil selalu sama untuk setiap percobaan.\n",
    "Distribusi Bernoulli adalah distribusi atas percobaan bernoulli (eksperimen sering terdiri dari beberapa usaha yang berulang-ulang, di mana tiap usaha mempunyai dua kemungkinan: sukses atau gagal. <br>\n",
    "Contoh:<br>\n",
    "Pada pengujian suatu produk untuk menentukan berapa jumlah produk yang cacat dari $n$ pengujian atau usaha.<br>\n",
    "Pada tiap pengujian ditentukan bahwa suatu produk cacat atau tidak cacat. \n",
    "<ol>\n",
    "<li> Peluang produk cacat misalkan $p$</li> \n",
    "<li> Peluang produk tidak cacat $1-p$</li> \n",
    "</ol>\n",
    "\n",
    "## Distribusi Hipergeometrik\n",
    "***\n",
    "* Percobaan binomial maupun hipergeometrik sama-sama memiliki 2 kemungkinan, yaitu sukses dan gagal.\n",
    "* Perbedaan mendasar adalah pada binomial, pada binomial percobaan dilakukan dengan pengembalian sedangkan hipergeometrik, percobaan dilakukan tanpa pengembalian."
   ]
  },
  {
   "cell_type": "markdown",
   "id": "c4fd5bb4",
   "metadata": {},
   "source": [
    "# Expected Value, Mean, Variance Distribusi Bernoulli\n",
    "***\n",
    "\n",
    "* **Expected value dari suatu peubah acak $Y$** (dinotasikan dengan $E(Y)$) adalah nilai rata-rata dari peubah acak yang berasal dari banyak percobaan.\n",
    "atau dapat juga ditulis:<br>\n",
    "$E(Y)=y_1p_1+y_2p_2+...+y_kp_k \\\\= \\sum_{i=1}^k y_ip_i$\n",
    "<br>\n",
    "* **Varians dari peubah acak** adalah nilai harapan dari __kuadrat__ selisih deviasi dari Y terhadap nilai rata-rata peubah acak. <br>\n",
    "$var(Y)=E[(Y-\\mu_Y)^2$]\n",
    "<br>\n",
    "\n",
    "* **Standar Deviasi dari peubah acak** adalah __akar kuadrat__ dari varians peubah acak disimbolkan dengan $\\sigma_Y$.<br>\n",
    "atau dapat juga ditulis:<br>\n",
    "$\\sigma^2_Y=var(Y) = E[(Y-\\mu_Y)^2] = \\sum_{i=1}^k (y_i-\\mu_Y)^2 p_i$"
   ]
  },
  {
   "cell_type": "markdown",
   "id": "36385b7d",
   "metadata": {},
   "source": [
    "## Random Sampling and Distribution of the Sample Average\n",
    "\n",
    "Pada umumnya hampir semua prosedur di dalam ekonomi/statistik menggunakan rata-rata atau rata-rata tertimbang dari data sampel, sehingga perlu memahami **distribusi dari rata-rata sample**. Perlu diingat bahwa rata-rata dari sampel adalah suatu peubah acak, maka rata-rata sampel memiliki suatu distribusi, yang dinamakan **sampling distributions**.\n",
    "\n",
    "### Random Sampling\n",
    "\n",
    "### Sampling Distributions and Distributions of the Sample Average\n"
   ]
  },
  {
   "cell_type": "markdown",
   "id": "0d04332a",
   "metadata": {},
   "source": [
    "## Law of Large Sample Approximations to Sampling Distributions\n",
    "***\n",
    "Aproksimasi dengan jumlah sample yang besar sering disebut __asymptotic distributions__.\n",
    "\n",
    "### Law of Large Number\n",
    "Saat ukuran sample cukup besar, rata-rata dari sampel peubah acak $(\\mu_Y)$ akan mendekati rata-rata populasi dengan kemungkinan yang cukup tinggi.\n",
    "\n",
    "### Central Limit Theorem\n",
    "Saat ukuran sample cukup besar, distribusi sample dari standardized sample average $\\frac{\\bar Y-\\mu_Y}{\\sigma_{\\bar Y}}$ kira-kira normal."
   ]
  },
  {
   "cell_type": "markdown",
   "id": "4a58dd1e",
   "metadata": {},
   "source": [
    "## Mean Limit Theorem\n",
    "***"
   ]
  }
 ],
 "metadata": {
  "kernelspec": {
   "display_name": "Python 3",
   "language": "python",
   "name": "python3"
  },
  "language_info": {
   "codemirror_mode": {
    "name": "ipython",
    "version": 3
   },
   "file_extension": ".py",
   "mimetype": "text/x-python",
   "name": "python",
   "nbconvert_exporter": "python",
   "pygments_lexer": "ipython3",
   "version": "3.8.5"
  }
 },
 "nbformat": 4,
 "nbformat_minor": 5
}
