{
 "cells": [
  {
   "cell_type": "markdown",
   "id": "3d5fa56a",
   "metadata": {},
   "source": [
    "# Random Variable (Peubah Acak)\n",
    "***\n",
    "*A function defined on sample space is called __random variable__.* (Feller)<br>\n",
    "Contoh peubah acak:\n",
    "* Jumlah kartu as yang dipegang saat main bridge\n",
    "* Pegawai dengan tanggal lahir sama di dalam satu departemen yang berjumlah n pegawai\n",
    "* etc\n",
    "\n",
    "## Definisi-Definisi\n",
    "\n",
    "### Peubah Acak Diskrit\n",
    "\n",
    "* __Distribusi Probabiilitas__ <br>\n",
    "list dari semua kemungkinan outcome dari peubah acak dan kemungkinan nilai tersebut akan muncul\n",
    "* __Distribusi Kumulatif Probabilitas (Cumulative Probability Distributions - CDF)__ <br>\n",
    " adalah peluang peubah acak adalah sama dengan atau kurang dari suatu nilai tertentu.\n",
    "\n",
    "### Peubah Acak Kontinu\n",
    "* __Fungsi Kepadatan Probabilitas (Probability Density Function - PDF)__ <br>\n",
    "luas area diantara dua buah titik pada distribusi probabilitas, yang merupakan peluang peubah acak ada diantara dua titik tersebut\n",
    "* __Distribusi Kumulatif Probabilitas__ <br>\n",
    "definisi yang sama dengan distribusi kumulatif probabilitas pada peubah acak diskrit"
   ]
  },
  {
   "cell_type": "markdown",
   "id": "frank-return",
   "metadata": {},
   "source": [
    " # Distribusi Bernoulli (Binomial)\n",
    " ***\n",
    "Suatu percobaan independen yang berulang disebut __Percobaan Bernoulli (*Bernoulli Trials*)__ apabila hanya ada dua kemungkinan outcomes dari setiap percobaan dan peluang dari setiap hasil selalu sama untuk setiap percobaan.\n",
    "Distribusi Bernoulli adalah distribusi atas percobaan bernoulli (eksperimen sering terdiri dari beberapa usaha yang berulang-ulang, di mana tiap usaha mempunyai dua kemungkinan: sukses atau gagal. <br>\n",
    "Contoh:<br>\n",
    "Pada pengujian suatu produk untuk menentukan berapa jumlah produk yang cacat dari $n$ pengujian atau usaha.<br>\n",
    "Pada tiap pengujian ditentukan bahwa suatu produk cacat atau tidak cacat. \n",
    "<ol>\n",
    "<li> Peluang produk cacat misalkan $p$</li> \n",
    "<li> Peluang produk tidak cacat $1-p$</li> \n",
    "</ol>\n",
    "\n",
    "# Distribusi Hipergeometrik\n",
    "***\n",
    "* Percobaan binomial maupun hipergeometrik sama-sama memiliki 2 kemungkinan, yaitu sukses dan gagal.\n",
    "* Perbedaan mendasar adalah pada binomial, pada binomial percobaan dilakukan dengan pengembalian sedangkan hipergeometrik, percobaan dilakukan tanpa pengembalian."
   ]
  },
  {
   "cell_type": "markdown",
   "id": "5e4ef261",
   "metadata": {},
   "source": [
    "# Expected Value, Mean, Variance\n",
    "***\n",
    "\n",
    "* **Expected value dari suatu peubah acak $Y$** (dinotasikan dengan $E(Y)$) adalah nilai rata-rata dari peubah acak yang berasal dari banyak percobaan.\n",
    "atau dapat juga ditulis:<br>\n",
    "$E(Y)=y_1p_1+y_2p_2+...+y_kp_k \\\\= \\sum_{i=1}^k y_ip_i$\n",
    "<br>\n",
    "* **Varians dari peubah acak** adalah nilai harapan dari __kuadrat__ selisih deviasi dari Y terhadap nilai rata-rata peubah acak. <br>\n",
    "$var(Y)=E[(Y-\\mu_Y)^2$]\n",
    "<br>\n",
    "\n",
    "* **Standar Deviasi dari peubah acak** adalah __akar kuadrat__ dari varians peubah acak disimbolkan dengan $\\sigma_Y$.<br>\n",
    "atau dapat juga ditulis:<br>\n",
    "$\\sigma^2_Y=var(Y) = E[(Y-\\mu_Y)^2] = \\sum_{i=1}^k (y_i-\\mu_Y)^2 p_i$"
   ]
  },
  {
   "cell_type": "markdown",
   "id": "fa713765",
   "metadata": {},
   "source": [
    "# Expected Value, Mean, Variance Distribusi Bernoulli\n",
    "***\n",
    "\n",
    "* **Expected value dari suatu peubah acak $Y$** (dinotasikan dengan $E(Y)$) adalah nilai rata-rata dari peubah acak yang berasal dari banyak percobaan.\n",
    "atau dapat juga ditulis:<br>\n",
    "$E(Y)=y_1p_1+y_2p_2+...+y_kp_k \\\\= \\sum_{i=1}^k y_ip_i$\n",
    "<br>\n",
    "* **Varians dari peubah acak** adalah nilai harapan dari __kuadrat__ selisih deviasi dari Y terhadap nilai rata-rata peubah acak. <br>\n",
    "$var(Y)=E[(Y-\\mu_Y)^2$]\n",
    "<br>\n",
    "\n",
    "* **Standar Deviasi dari peubah acak** adalah __akar kuadrat__ dari varians peubah acak disimbolkan dengan $\\sigma_Y$.<br>\n",
    "atau dapat juga ditulis:<br>\n",
    "$\\sigma^2_Y=var(Y) = E[(Y-\\mu_Y)^2] = \\sum_{i=1}^k (y_i-\\mu_Y)^2 p_i$"
   ]
  }
 ],
 "metadata": {
  "kernelspec": {
   "display_name": "Python 3",
   "language": "python",
   "name": "python3"
  },
  "language_info": {
   "codemirror_mode": {
    "name": "ipython",
    "version": 3
   },
   "file_extension": ".py",
   "mimetype": "text/x-python",
   "name": "python",
   "nbconvert_exporter": "python",
   "pygments_lexer": "ipython3",
   "version": "3.8.5"
  }
 },
 "nbformat": 4,
 "nbformat_minor": 5
}
