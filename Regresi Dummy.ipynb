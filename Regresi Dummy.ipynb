{
 "cells": [
  {
   "cell_type": "markdown",
   "id": "82799e99",
   "metadata": {},
   "source": [
    "# Penyebab Heteroskedastisitas\n",
    "\n",
    "Heteroskedastisitas bisa disebabkan oleh banyak hal :\n",
    "1. Mengikuti error-learning models, dengan semakin paham/berpengalaman, orang-orang akan berkurang errornya seiring dengan berjalannya waktu.\n",
    "2. As incomes grow, people have more discretionary income2 and hence more scope for choice about the disposition of their income\n",
    "3. Terdapat perbedaan teknis pengumpulan data, yang menyebabkan $\\sigma^2_i$ bervariasi. Misalkan: pengumpul data yang memilikki metode pengumpulan data yang  sangat presisi lebih cendrung memiliki sedikit error di dalam data dibandingkan dengan pengumpul data yang tidak terlalu presisi.\n",
    "4. Heteroskedastisitas juga bisa disebabkan adanya outliers.\n",
    "5. Beberapa variabel penting dihilangkan dari model.\n",
    "6. Keruncingan (skewness) pada distribusi dari salah satu atau beberapa variabel independen. Misalkan pada beberapa variabel ekonomi seperti pendapatan atau pendidikan. Umum diketahui bahwa pendapatan memiliki distribusi yang runcing.\n",
    "7. Sumber lain  \n",
    "    * incorrect data transformation (e.g., ratio or first difference transformations) and \n",
    "    * incorrect functional form (e.g., linear versus log–linear models)."
   ]
  },
  {
   "cell_type": "code",
   "execution_count": null,
   "id": "3d321c56",
   "metadata": {},
   "outputs": [],
   "source": [
    "6. Another source of heteroscedasticity is skewness in the distribution of one or more\n",
    "regressors included in the model. Examples are economic variables such as income,\n",
    "wealth, and education. It is well known that the distribution of income and wealth in most\n",
    "societies is uneven, with the bulk of the income and wealth being owned by a few at the top.\n",
    "7. Other sources of heteroscedasticity: As David Hendry notes, heteroscedasticity can\n",
    "also arise because of (1) incorrect data transformation (e.g., ratio or first difference transformations) and (2) incorrect functional form (e.g., linear versus log–linear models)."
   ]
  },
  {
   "cell_type": "markdown",
   "id": "2f9be4af",
   "metadata": {},
   "source": [
    "# Deteksi Heteroskedastisitas\n",
    "***"
   ]
  },
  {
   "cell_type": "markdown",
   "id": "0dac3a5b",
   "metadata": {},
   "source": [
    "## Park Test"
   ]
  },
  {
   "cell_type": "markdown",
   "id": "84b549e7",
   "metadata": {},
   "source": [
    "## Glejser Test\n",
    "***\n",
    "r package: skedastic"
   ]
  },
  {
   "cell_type": "markdown",
   "id": "078e3f81",
   "metadata": {},
   "source": [
    "## Goldfeld–Quandt Test\n",
    "***\n",
    "r package: skedastic"
   ]
  },
  {
   "cell_type": "markdown",
   "id": "72e44746",
   "metadata": {},
   "source": [
    "## Spearman’s Rank Correlation Test"
   ]
  },
  {
   "cell_type": "markdown",
   "id": "3b4c3fe4",
   "metadata": {},
   "source": [
    "## Breusch–Pagan–Godfrey Test\n",
    "***\n",
    "r package: skedastic"
   ]
  },
  {
   "cell_type": "markdown",
   "id": "45f84a11",
   "metadata": {},
   "source": [
    "## White’s General Heteroscedasticity Test\n",
    "***\n",
    "r package: skedastic"
   ]
  },
  {
   "cell_type": "code",
   "execution_count": null,
   "id": "11271c86",
   "metadata": {},
   "outputs": [],
   "source": []
  },
  {
   "cell_type": "code",
   "execution_count": null,
   "id": "31e9358c",
   "metadata": {},
   "outputs": [],
   "source": []
  }
 ],
 "metadata": {
  "kernelspec": {
   "display_name": "R",
   "language": "R",
   "name": "ir"
  },
  "language_info": {
   "codemirror_mode": "r",
   "file_extension": ".r",
   "mimetype": "text/x-r-source",
   "name": "R",
   "pygments_lexer": "r",
   "version": "4.1.0"
  }
 },
 "nbformat": 4,
 "nbformat_minor": 5
}
