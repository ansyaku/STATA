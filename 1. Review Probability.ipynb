{
 "cells": [
  {
   "cell_type": "markdown",
   "id": "fbbb0f70",
   "metadata": {},
   "source": [
    "## Peubah Acak\n",
    "***\n",
    "\n",
    "Peubah acak $X$ adalah sebuah fungsi yang terdefinisi dalam ruang sampel (S), yang menghubungkan antara  bilangan riil $X(\\omega)=x$, dengan outcome $\\omega$ ada pada $S$.\n",
    "<br>\n",
    "__Contoh:__ <br>\n",
    "Dua koin dilempar dan hasilnya dicatat. Ruang sample $S = \\{HH, HT, TH, TT\\}$.<br>\n",
    "Didefinisikan peubah acak $X(\\omega) = n$, dimana $n$ adalah kemunculan gambar dan $\\omega$ mewakili suatu even misalnya $HH$. <br>\n",
    "$X(\\omega) = \n",
    "     \\begin{cases}\n",
    "       \\text{0,} &\\quad\\text{jika } \\omega =(TT) \\\\ \n",
    "       \\text{1,} &\\quad\\text{jika } \\omega \\in \\{TH, HT\\} \\\\ \n",
    "       \\text{2,} &\\quad\\text{jika } \\omega =(HH) \\\\ \n",
    "     \\end{cases}$\n",
    "<br>\n",
    "Dari sini dapat diketahui bahwa  $X(\\omega)=0$ dengan probabilitas $\\frac{1}{4}$ atau $X(\\omega)=2$ dengan probabilitas $\\frac{1}{2}$.     <br>\n",
    "\n",
    "Jadi, intinya untuk setiap nilai peubah acak terdapat event, dan melalui even ini kita menghubungkan antara peubah dengan ukuran probabilitas"
   ]
  },
  {
   "attachments": {},
   "cell_type": "markdown",
   "id": "e438ba93",
   "metadata": {},
   "source": [
    "Peubah acak dapat dibagi dua, yakni:\n",
    "1. A random variable X is said to be discrete if it can assume only a finite or countably infinite number of distinct values.\n",
    "2. ontinous\n",
    "\n",
    "### Probability Distribution\n",
    "### Probability of Events\n",
    "The probability of an event can be computed from\n",
    "the probability distribution. \n",
    "### Cumulative Distribution Function\n",
    "kemungkinan nilai suatu peubah acak kurang dari atau lebih dari suatu nilai tertentu."
   ]
  }
 ],
 "metadata": {
  "kernelspec": {
   "display_name": "Python 3",
   "language": "python",
   "name": "python3"
  },
  "language_info": {
   "codemirror_mode": {
    "name": "ipython",
    "version": 3
   },
   "file_extension": ".py",
   "mimetype": "text/x-python",
   "name": "python",
   "nbconvert_exporter": "python",
   "pygments_lexer": "ipython3",
   "version": "3.8.5"
  }
 },
 "nbformat": 4,
 "nbformat_minor": 5
}
