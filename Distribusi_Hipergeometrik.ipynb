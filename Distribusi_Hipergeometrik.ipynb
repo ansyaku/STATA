{
 "cells": [
  {
   "cell_type": "markdown",
   "id": "ecological-square",
   "metadata": {},
   "source": [
    "Percobaan binomial maupun hipergeometrik sama-sama memiliki 2 kemungkinan, yaitu sukses dan gagal.•Perbedaanmendasar adalah pada binomial •Perbedaanmendasar adalah pada binomial percobaan dilakukan dengan pengembalian sedangkan hipergeometrik, percobaan dilakukan tanpa pengembalian."
   ]
  }
 ],
 "metadata": {
  "kernelspec": {
   "display_name": "Python 3",
   "language": "python",
   "name": "python3"
  },
  "language_info": {
   "codemirror_mode": {
    "name": "ipython",
    "version": 3
   },
   "file_extension": ".py",
   "mimetype": "text/x-python",
   "name": "python",
   "nbconvert_exporter": "python",
   "pygments_lexer": "ipython3",
   "version": "3.8.5"
  }
 },
 "nbformat": 4,
 "nbformat_minor": 5
}
